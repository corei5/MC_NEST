{
  "nbformat": 4,
  "nbformat_minor": 0,
  "metadata": {
    "colab": {
      "provenance": []
    },
    "kernelspec": {
      "name": "python3",
      "display_name": "Python 3"
    },
    "language_info": {
      "name": "python"
    }
  },
  "cells": [
    {
      "cell_type": "code",
      "source": [
        "!git clone https://github.com/corei5/MC_NEST_GPT.git\n",
        "!pip install -r MC_NEST_GPT/requirements.txt"
      ],
      "metadata": {
        "colab": {
          "base_uri": "https://localhost:8080/"
        },
        "id": "9xhtX2i_VdLg",
        "outputId": "5c919093-fcc7-43c8-849a-69ea6442895a"
      },
      "execution_count": 1,
      "outputs": [
        {
          "output_type": "stream",
          "name": "stdout",
          "text": [
            "Cloning into 'MC_NEST_GPT'...\n",
            "remote: Enumerating objects: 169, done.\u001b[K\n",
            "remote: Counting objects: 100% (169/169), done.\u001b[K\n",
            "remote: Compressing objects: 100% (165/165), done.\u001b[K\n",
            "remote: Total 169 (delta 42), reused 0 (delta 0), pack-reused 0 (from 0)\u001b[K\n",
            "Receiving objects: 100% (169/169), 59.60 KiB | 2.38 MiB/s, done.\n",
            "Resolving deltas: 100% (42/42), done.\n",
            "Requirement already satisfied: openai in /usr/local/lib/python3.10/dist-packages (from -r MC_NEST_GPT/requirements.txt (line 2)) (1.54.4)\n",
            "Requirement already satisfied: pydantic in /usr/local/lib/python3.10/dist-packages (from -r MC_NEST_GPT/requirements.txt (line 3)) (2.9.2)\n",
            "Requirement already satisfied: numpy in /usr/local/lib/python3.10/dist-packages (from -r MC_NEST_GPT/requirements.txt (line 4)) (1.26.4)\n",
            "Requirement already satisfied: pandas in /usr/local/lib/python3.10/dist-packages (from -r MC_NEST_GPT/requirements.txt (line 5)) (2.2.2)\n",
            "Requirement already satisfied: tqdm in /usr/local/lib/python3.10/dist-packages (from -r MC_NEST_GPT/requirements.txt (line 6)) (4.66.6)\n",
            "Requirement already satisfied: anyio<5,>=3.5.0 in /usr/local/lib/python3.10/dist-packages (from openai->-r MC_NEST_GPT/requirements.txt (line 2)) (3.7.1)\n",
            "Requirement already satisfied: distro<2,>=1.7.0 in /usr/local/lib/python3.10/dist-packages (from openai->-r MC_NEST_GPT/requirements.txt (line 2)) (1.9.0)\n",
            "Requirement already satisfied: httpx<1,>=0.23.0 in /usr/local/lib/python3.10/dist-packages (from openai->-r MC_NEST_GPT/requirements.txt (line 2)) (0.27.2)\n",
            "Requirement already satisfied: jiter<1,>=0.4.0 in /usr/local/lib/python3.10/dist-packages (from openai->-r MC_NEST_GPT/requirements.txt (line 2)) (0.7.1)\n",
            "Requirement already satisfied: sniffio in /usr/local/lib/python3.10/dist-packages (from openai->-r MC_NEST_GPT/requirements.txt (line 2)) (1.3.1)\n",
            "Requirement already satisfied: typing-extensions<5,>=4.11 in /usr/local/lib/python3.10/dist-packages (from openai->-r MC_NEST_GPT/requirements.txt (line 2)) (4.12.2)\n",
            "Requirement already satisfied: annotated-types>=0.6.0 in /usr/local/lib/python3.10/dist-packages (from pydantic->-r MC_NEST_GPT/requirements.txt (line 3)) (0.7.0)\n",
            "Requirement already satisfied: pydantic-core==2.23.4 in /usr/local/lib/python3.10/dist-packages (from pydantic->-r MC_NEST_GPT/requirements.txt (line 3)) (2.23.4)\n",
            "Requirement already satisfied: python-dateutil>=2.8.2 in /usr/local/lib/python3.10/dist-packages (from pandas->-r MC_NEST_GPT/requirements.txt (line 5)) (2.8.2)\n",
            "Requirement already satisfied: pytz>=2020.1 in /usr/local/lib/python3.10/dist-packages (from pandas->-r MC_NEST_GPT/requirements.txt (line 5)) (2024.2)\n",
            "Requirement already satisfied: tzdata>=2022.7 in /usr/local/lib/python3.10/dist-packages (from pandas->-r MC_NEST_GPT/requirements.txt (line 5)) (2024.2)\n",
            "Requirement already satisfied: idna>=2.8 in /usr/local/lib/python3.10/dist-packages (from anyio<5,>=3.5.0->openai->-r MC_NEST_GPT/requirements.txt (line 2)) (3.10)\n",
            "Requirement already satisfied: exceptiongroup in /usr/local/lib/python3.10/dist-packages (from anyio<5,>=3.5.0->openai->-r MC_NEST_GPT/requirements.txt (line 2)) (1.2.2)\n",
            "Requirement already satisfied: certifi in /usr/local/lib/python3.10/dist-packages (from httpx<1,>=0.23.0->openai->-r MC_NEST_GPT/requirements.txt (line 2)) (2024.8.30)\n",
            "Requirement already satisfied: httpcore==1.* in /usr/local/lib/python3.10/dist-packages (from httpx<1,>=0.23.0->openai->-r MC_NEST_GPT/requirements.txt (line 2)) (1.0.6)\n",
            "Requirement already satisfied: h11<0.15,>=0.13 in /usr/local/lib/python3.10/dist-packages (from httpcore==1.*->httpx<1,>=0.23.0->openai->-r MC_NEST_GPT/requirements.txt (line 2)) (0.14.0)\n",
            "Requirement already satisfied: six>=1.5 in /usr/local/lib/python3.10/dist-packages (from python-dateutil>=2.8.2->pandas->-r MC_NEST_GPT/requirements.txt (line 5)) (1.16.0)\n"
          ]
        }
      ]
    },
    {
      "cell_type": "code",
      "source": [
        "# Import the package\n",
        "from MC_NEST_GPT.MC_NEST_GPT.MC_NEST_ import MC_NEST_gpt4o\n",
        "\n",
        "# Provide your OpenAI API Key (either by environment variable or directly)\n",
        "import openai\n",
        "openai.api_key = ''  # Replace with your actual OpenAI API key\n",
        "\n",
        "GREEDY = 1\n",
        "IMPORTANCE_SAMPLING = 2\n",
        "PAIRWISE_IMPORTANCE_SAMPLING = 3\n",
        "ZERO_SHOT = 1\n",
        "DUMMY_ANSWER = 2\n",
        "\n",
        "# Initialize MCTS with a problem, number of rollouts, and selection policy\n",
        "problem = \"Let $S$ be a list of positive integers not necessarily distinct in which the number $68$ appears. The average (arithmetic mean) of the numbers in $S$ is $56$. However, if $68$ is removed, the average of the remaining numbers drops to $55$. What is the largest number that can appear in $S$?\"\n",
        "MC_NEST = MC_NEST_gpt4o(problem=problem, max_rollouts=4, selection_policy = IMPORTANCE_SAMPLING, initialize_strategy = ZERO_SHOT)\n",
        "\n",
        "\n",
        "# Run MCTS to get the best answer\n",
        "best_answer = MC_NEST.run()\n",
        "print(best_answer)\n",
        "\n"
      ],
      "metadata": {
        "colab": {
          "base_uri": "https://localhost:8080/"
        },
        "id": "e_ed8VtmGvn3",
        "outputId": "b52b764c-870a-42ac-a896-ba077748d6e8"
      },
      "execution_count": 4,
      "outputs": [
        {
          "output_type": "stream",
          "name": "stderr",
          "text": [
            "\r  0%|          | 0/4 [00:00<?, ?it/s]"
          ]
        },
        {
          "output_type": "stream",
          "name": "stdout",
          "text": [
            "................IMPORTANCE_SAMPLING............\n"
          ]
        },
        {
          "output_type": "stream",
          "name": "stderr",
          "text": [
            "\r 25%|██▌       | 1/4 [00:09<00:27,  9.26s/it]"
          ]
        },
        {
          "output_type": "stream",
          "name": "stdout",
          "text": [
            "................IMPORTANCE_SAMPLING............\n"
          ]
        },
        {
          "output_type": "stream",
          "name": "stderr",
          "text": [
            "\r 50%|█████     | 2/4 [00:18<00:18,  9.28s/it]"
          ]
        },
        {
          "output_type": "stream",
          "name": "stdout",
          "text": [
            "................IMPORTANCE_SAMPLING............\n"
          ]
        },
        {
          "output_type": "stream",
          "name": "stderr",
          "text": [
            "\r 75%|███████▌  | 3/4 [00:27<00:08,  8.95s/it]"
          ]
        },
        {
          "output_type": "stream",
          "name": "stdout",
          "text": [
            "................IMPORTANCE_SAMPLING............\n"
          ]
        },
        {
          "output_type": "stream",
          "name": "stderr",
          "text": [
            "100%|██████████| 4/4 [00:38<00:00,  9.59s/it]"
          ]
        },
        {
          "output_type": "stream",
          "name": "stdout",
          "text": [
            "We need to determine the largest number that can appear in the list, given the constraints on the averages before and after removing 68. To solve this, we will find the total number of elements in the list and the total sum before removal, and then calculate the sum for the remaining numbers. By minimizing the values of the other numbers, we can maximize one specific number in the list.\n",
            "\n",
            "# Answer\n",
            "649.0\n"
          ]
        },
        {
          "output_type": "stream",
          "name": "stderr",
          "text": [
            "\n"
          ]
        }
      ]
    }
  ]
}