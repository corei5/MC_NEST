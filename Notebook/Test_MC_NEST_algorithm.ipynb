{
 "cells": [
  {
   "cell_type": "code",
   "execution_count": 1,
   "metadata": {
    "colab": {
     "base_uri": "https://localhost:8080/"
    },
    "id": "9xhtX2i_VdLg",
    "outputId": "32561d21-09c2-4e9b-bfc6-08692eed8057",
    "tags": []
   },
   "outputs": [
    {
     "name": "stdout",
     "output_type": "stream",
     "text": [
      "Cloning into 'MC_NEST_GPT'...\n",
      "remote: Enumerating objects: 165, done.\u001b[K\n",
      "remote: Counting objects: 100% (165/165), done.\u001b[K\n",
      "remote: Compressing objects: 100% (161/161), done.\u001b[K\n",
      "remote: Total 165 (delta 40), reused 0 (delta 0), pack-reused 0 (from 0)\u001b[K\n",
      "Receiving objects: 100% (165/165), 57.59 KiB | 3.39 MiB/s, done.\n",
      "Resolving deltas: 100% (40/40), done.\n",
      "Requirement already satisfied: openai in /srv/conda/envs/notebook/lib/python3.10/site-packages (from -r MC_NEST_GPT/requirements.txt (line 2)) (1.54.4)\n",
      "Requirement already satisfied: pydantic in /srv/conda/envs/notebook/lib/python3.10/site-packages (from -r MC_NEST_GPT/requirements.txt (line 3)) (2.9.2)\n",
      "Requirement already satisfied: numpy in /srv/conda/envs/notebook/lib/python3.10/site-packages (from -r MC_NEST_GPT/requirements.txt (line 4)) (2.1.3)\n",
      "Requirement already satisfied: pandas in /srv/conda/envs/notebook/lib/python3.10/site-packages (from -r MC_NEST_GPT/requirements.txt (line 5)) (2.2.3)\n",
      "Requirement already satisfied: tqdm in /srv/conda/envs/notebook/lib/python3.10/site-packages (from -r MC_NEST_GPT/requirements.txt (line 6)) (4.67.0)\n",
      "Requirement already satisfied: anyio<5,>=3.5.0 in /srv/conda/envs/notebook/lib/python3.10/site-packages (from openai->-r MC_NEST_GPT/requirements.txt (line 2)) (3.7.1)\n",
      "Requirement already satisfied: distro<2,>=1.7.0 in /srv/conda/envs/notebook/lib/python3.10/site-packages (from openai->-r MC_NEST_GPT/requirements.txt (line 2)) (1.9.0)\n",
      "Requirement already satisfied: httpx<1,>=0.23.0 in /srv/conda/envs/notebook/lib/python3.10/site-packages (from openai->-r MC_NEST_GPT/requirements.txt (line 2)) (0.27.2)\n",
      "Requirement already satisfied: jiter<1,>=0.4.0 in /srv/conda/envs/notebook/lib/python3.10/site-packages (from openai->-r MC_NEST_GPT/requirements.txt (line 2)) (0.7.1)\n",
      "Requirement already satisfied: sniffio in /srv/conda/envs/notebook/lib/python3.10/site-packages (from openai->-r MC_NEST_GPT/requirements.txt (line 2)) (1.3.0)\n",
      "Requirement already satisfied: typing-extensions<5,>=4.11 in /srv/conda/envs/notebook/lib/python3.10/site-packages (from openai->-r MC_NEST_GPT/requirements.txt (line 2)) (4.12.2)\n",
      "Requirement already satisfied: annotated-types>=0.6.0 in /srv/conda/envs/notebook/lib/python3.10/site-packages (from pydantic->-r MC_NEST_GPT/requirements.txt (line 3)) (0.7.0)\n",
      "Requirement already satisfied: pydantic-core==2.23.4 in /srv/conda/envs/notebook/lib/python3.10/site-packages (from pydantic->-r MC_NEST_GPT/requirements.txt (line 3)) (2.23.4)\n",
      "Requirement already satisfied: python-dateutil>=2.8.2 in /srv/conda/envs/notebook/lib/python3.10/site-packages (from pandas->-r MC_NEST_GPT/requirements.txt (line 5)) (2.8.2)\n",
      "Requirement already satisfied: pytz>=2020.1 in /srv/conda/envs/notebook/lib/python3.10/site-packages (from pandas->-r MC_NEST_GPT/requirements.txt (line 5)) (2023.3.post1)\n",
      "Requirement already satisfied: tzdata>=2022.7 in /srv/conda/envs/notebook/lib/python3.10/site-packages (from pandas->-r MC_NEST_GPT/requirements.txt (line 5)) (2024.2)\n",
      "Requirement already satisfied: idna>=2.8 in /srv/conda/envs/notebook/lib/python3.10/site-packages (from anyio<5,>=3.5.0->openai->-r MC_NEST_GPT/requirements.txt (line 2)) (3.4)\n",
      "Requirement already satisfied: exceptiongroup in /srv/conda/envs/notebook/lib/python3.10/site-packages (from anyio<5,>=3.5.0->openai->-r MC_NEST_GPT/requirements.txt (line 2)) (1.1.3)\n",
      "Requirement already satisfied: certifi in /srv/conda/envs/notebook/lib/python3.10/site-packages (from httpx<1,>=0.23.0->openai->-r MC_NEST_GPT/requirements.txt (line 2)) (2023.7.22)\n",
      "Requirement already satisfied: httpcore==1.* in /srv/conda/envs/notebook/lib/python3.10/site-packages (from httpx<1,>=0.23.0->openai->-r MC_NEST_GPT/requirements.txt (line 2)) (1.0.7)\n",
      "Requirement already satisfied: h11<0.15,>=0.13 in /srv/conda/envs/notebook/lib/python3.10/site-packages (from httpcore==1.*->httpx<1,>=0.23.0->openai->-r MC_NEST_GPT/requirements.txt (line 2)) (0.14.0)\n",
      "Requirement already satisfied: six>=1.5 in /srv/conda/envs/notebook/lib/python3.10/site-packages (from python-dateutil>=2.8.2->pandas->-r MC_NEST_GPT/requirements.txt (line 5)) (1.16.0)\n"
     ]
    }
   ],
   "source": [
    "!git clone https://github.com/corei5/MC_NEST_GPT.git\n",
    "!pip install -r MC_NEST_GPT/requirements.txt"
   ]
  },
  {
   "cell_type": "code",
   "execution_count": 5,
   "metadata": {
    "colab": {
     "base_uri": "https://localhost:8080/"
    },
    "id": "e_ed8VtmGvn3",
    "outputId": "7f3ad7fd-6dda-432d-b0f7-484687101c65",
    "tags": []
   },
   "outputs": [],
   "source": [
    "# Import the package\n",
    "from MC_NEST_GPT.MC_NEST_ import MC_NEST_gpt4o\n",
    "\n",
    "Provide your OpenAI API Key (either by environment variable or directly)\n",
    "import openai\n",
    "openai.api_key = ''  # Replace with your actual OpenAI API key\n",
    "\n",
    "GREEDY = 1\n",
    "IMPORTANCE_SAMPLING = 2\n",
    "PAIRWISE_IMPORTANCE_SAMPLING = 3\n",
    "ZERO_SHOT = 1\n",
    "DUMMY_ANSWER = 2\n",
    "\n",
    "# Initialize MCTS with a problem, number of rollouts, and selection policy\n",
    "problem = \"Let $S$ be a list of positive integers not necessarily distinct in which the number $68$ appears. The average (arithmetic mean) of the numbers in $S$ is $56$. However, if $68$ is removed, the average of the remaining numbers drops to $55$. What is the largest number that can appear in $S$?\"\n",
    "MC_NEST = MC_NEST_gpt4o(problem=problem, max_rollouts=4, selection_policy = IMPORTANCE_SAMPLING, initialize_strategy = ZERO_SHOT)\n",
    "\n",
    "\n",
    "# Run MCTS to get the best answer\n",
    "best_answer = MC_NEST.run()\n",
    "print(best_answer)\n",
    "\n"
   ]
  },
  {
   "cell_type": "code",
   "execution_count": null,
   "metadata": {},
   "outputs": [],
   "source": []
  }
 ],
 "metadata": {
  "colab": {
   "provenance": []
  },
  "kernelspec": {
   "display_name": "Python 3 (ipykernel)",
   "language": "python",
   "name": "python3"
  },
  "language_info": {
   "codemirror_mode": {
    "name": "ipython",
    "version": 3
   },
   "file_extension": ".py",
   "mimetype": "text/x-python",
   "name": "python",
   "nbconvert_exporter": "python",
   "pygments_lexer": "ipython3",
   "version": "3.10.12"
  }
 },
 "nbformat": 4,
 "nbformat_minor": 4
}
